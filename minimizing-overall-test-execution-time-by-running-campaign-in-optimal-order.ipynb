{
 "cells": [
  {
   "cell_type": "markdown",
   "metadata": {},
   "source": [
    "# Minimizing overall test execution time by running campaign in optimal order"
   ]
  },
  {
   "cell_type": "markdown",
   "metadata": {},
   "source": [
    "## Context\n",
    "\n",
    "Considering a set of tests that have to be run on a given data sample; considering that on this given data sample, we have already computed the probability for each test to pass or fail; considering that once a test has passed, the campaign stops, meaning the other remaining tests do not need to be executed; Hence the problem:\n",
    "**in which order should we execute the tests to minimize the overall test execution time?**"
   ]
  },
  {
   "cell_type": "markdown",
   "metadata": {},
   "source": [
    "## Generating the data"
   ]
  },
  {
   "cell_type": "code",
   "execution_count": 1,
   "metadata": {},
   "outputs": [
    {
     "name": "stdout",
     "output_type": "stream",
     "text": [
      "[[ 0.          1.          2.        ]\n",
      " [ 0.89459063  0.41318072  0.19150126]\n",
      " [ 5.01369347  7.35423989  2.50302183]]\n"
     ]
    }
   ],
   "source": [
    "import numpy as np\n",
    "nb_tests = 3\n",
    "data = np.array([ np.arange(nb_tests), np.random.rand(nb_tests), np.random.rand(nb_tests)*10 ])\n",
    "print(data)"
   ]
  },
  {
   "cell_type": "code",
   "execution_count": 2,
   "metadata": {},
   "outputs": [
    {
     "name": "stdout",
     "output_type": "stream",
     "text": [
      "[ 0.89459063  0.41318072  0.19150126]\n"
     ]
    }
   ],
   "source": [
    "p = data[1,:]\n",
    "print(p)"
   ]
  },
  {
   "cell_type": "code",
   "execution_count": 3,
   "metadata": {},
   "outputs": [
    {
     "name": "stdout",
     "output_type": "stream",
     "text": [
      "[ 5.01369347  7.35423989  2.50302183]\n"
     ]
    }
   ],
   "source": [
    "t = data[2,:]\n",
    "print(t)"
   ]
  },
  {
   "cell_type": "code",
   "execution_count": 4,
   "metadata": {},
   "outputs": [
    {
     "name": "stdout",
     "output_type": "stream",
     "text": [
      "[  5.01369347  12.36793336  14.87095518]\n"
     ]
    }
   ],
   "source": [
    "cst = np.cumsum(t)\n",
    "print(cst)"
   ]
  },
  {
   "cell_type": "code",
   "execution_count": 5,
   "metadata": {},
   "outputs": [
    {
     "name": "stdout",
     "output_type": "stream",
     "text": [
      "[ 0.10540937  0.06185625  0.0500107 ]\n"
     ]
    }
   ],
   "source": [
    "cpp = np.cumprod(1-p)\n",
    "print(cpp)"
   ]
  },
  {
   "cell_type": "code",
   "execution_count": 6,
   "metadata": {},
   "outputs": [
    {
     "name": "stdout",
     "output_type": "stream",
     "text": [
      "[ 0.10540937  0.06185625  0.        ]\n"
     ]
    }
   ],
   "source": [
    "cpp[-1] = 0;\n",
    "print(cpp)"
   ]
  },
  {
   "cell_type": "markdown",
   "metadata": {
    "collapsed": true
   },
   "source": [
    "## Cost function\n",
    "$J = \\sum_{i=1}^n \\left( p_i \\cdot \\prod_{k=0}^{i-1} \\left(1-p_{k}\\right) \\cdot \\sum_{j=1}^i t_j \\right)$, with $p_0 = 0$."
   ]
  },
  {
   "cell_type": "code",
   "execution_count": 7,
   "metadata": {},
   "outputs": [
    {
     "name": "stdout",
     "output_type": "stream",
     "text": [
      "0.349949757736\n"
     ]
    }
   ],
   "source": [
    "cost = 0;\n",
    "for i in range(0, nb_tests):\n",
    "    cost += p[i] * cpp[i-1] * t[i]\n",
    "print(cost)"
   ]
  },
  {
   "cell_type": "markdown",
   "metadata": {},
   "source": [
    "## Optimization problem\n",
    "$\\min \\left( \\sum_{i=1}^n \\left( p_i \\cdot \\prod_{k=0}^{i-1} \\left(1-p_{k}\\right) \\cdot \\sum_{j=1}^i t_j \\right) \\right)$, with $p_0 = 0$."
   ]
  }
 ],
 "metadata": {
  "kernelspec": {
   "display_name": "Python 3",
   "language": "python",
   "name": "python3"
  },
  "language_info": {
   "codemirror_mode": {
    "name": "ipython",
    "version": 3
   },
   "file_extension": ".py",
   "mimetype": "text/x-python",
   "name": "python",
   "nbconvert_exporter": "python",
   "pygments_lexer": "ipython3",
   "version": "3.6.0"
  }
 },
 "nbformat": 4,
 "nbformat_minor": 2
}
